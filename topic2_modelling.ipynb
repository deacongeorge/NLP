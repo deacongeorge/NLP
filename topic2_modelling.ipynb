{
 "cells": [
  {
   "cell_type": "code",
   "execution_count": 44,
   "metadata": {},
   "outputs": [],
   "source": [
    "'''\n",
    "'''"
   ]
  },
  {
   "cell_type": "code",
   "execution_count": 68,
   "metadata": {},
   "outputs": [],
   "source": [
    "# load libraries\n",
    "import numpy as np\n",
    "import pandas as pd\n",
    "import matplotlib.pyplot as plt\n",
    "import seaborn as sns\n",
    "pd.set_option(\"display.max_colwidth\", 200)\n",
    "from sklearn.datasets import fetch_20newsgroups\n",
    "from sklearn.feature_extraction.text import TfidfVectorizer\n",
    "from sklearn.decomposition import TruncatedSVD\n",
    "from sklearn.pipeline import Pipeline\n",
    "import gensim\n",
    "from nltk.corpus import brown\n",
    "from gensim.corpora import Dictionary\n",
    "import scipy.sparse\n",
    "import numpy as np\n",
    "#from gensim.corpora.Dictionary import load_from_text, doc2bow\n",
    "from pprint import pprint  # pretty-printer\n",
    "from collections import defaultdict\n",
    "from gensim import corpora\n",
    "from gensim.corpora import MmCorpus\n",
    "from gensim.models.ldamodel import LdaModel\n",
    "from nltk.corpus import stopwords \n",
    "from nltk.stem.wordnet import WordNetLemmatizer\n",
    "import string\n",
    "stop = set(stopwords.words('english'))\n",
    "exclude = set(string.punctuation) \n",
    "lemma = WordNetLemmatizer()\n"
   ]
  },
  {
   "cell_type": "code",
   "execution_count": 69,
   "metadata": {},
   "outputs": [],
   "source": [
    "# get datasets\n",
    "\n",
    "dataset = fetch_20newsgroups(shuffle=True, random_state=1, remove=('headers', 'footers', 'quotes'))"
   ]
  },
  {
   "cell_type": "code",
   "execution_count": 70,
   "metadata": {},
   "outputs": [
    {
     "data": {
      "text/plain": [
       "11314"
      ]
     },
     "execution_count": 70,
     "metadata": {},
     "output_type": "execute_result"
    }
   ],
   "source": [
    "documents = dataset.data\n",
    "\n",
    "len(documents)\n"
   ]
  },
  {
   "cell_type": "code",
   "execution_count": 71,
   "metadata": {},
   "outputs": [
    {
     "data": {
      "text/plain": [
       "['alt.atheism',\n",
       " 'comp.graphics',\n",
       " 'comp.os.ms-windows.misc',\n",
       " 'comp.sys.ibm.pc.hardware',\n",
       " 'comp.sys.mac.hardware',\n",
       " 'comp.windows.x',\n",
       " 'misc.forsale',\n",
       " 'rec.autos',\n",
       " 'rec.motorcycles',\n",
       " 'rec.sport.baseball',\n",
       " 'rec.sport.hockey',\n",
       " 'sci.crypt',\n",
       " 'sci.electronics',\n",
       " 'sci.med',\n",
       " 'sci.space',\n",
       " 'soc.religion.christian',\n",
       " 'talk.politics.guns',\n",
       " 'talk.politics.mideast',\n",
       " 'talk.politics.misc',\n",
       " 'talk.religion.misc']"
      ]
     },
     "execution_count": 71,
     "metadata": {},
     "output_type": "execute_result"
    }
   ],
   "source": [
    "dataset.target_names"
   ]
  },
  {
   "cell_type": "code",
   "execution_count": 72,
   "metadata": {},
   "outputs": [],
   "source": [
    "# Data Preprocessing\n",
    "# remove the punctuations, numbers, and special characters \n",
    "# Remove shorter words because they usually don’t contain useful information.\n",
    "# make all the text lowercase to nullify case sensitivity\n",
    "\n",
    "# removing everything except alphabets`\n",
    "news_df = pd.DataFrame({'document':documents})\n",
    "\n",
    "news_df['clean_doc'] = news_df['document'].str.replace(\"[^a-zA-Z#]\", \" \")\n",
    "\n",
    "# removing short words\n",
    "news_df['clean_doc'] = news_df['clean_doc'].apply(lambda x: ' '.join([w for w in x.split() if len(w)>3]))\n",
    "\n",
    "# make all text lowercase\n",
    "news_df['clean_doc'] = news_df['clean_doc'].apply(lambda x: x.lower())\n",
    "\n"
   ]
  },
  {
   "cell_type": "code",
   "execution_count": 73,
   "metadata": {},
   "outputs": [],
   "source": [
    "'''\n",
    "remove the stop-words from the text data as they are mostly clutter and hardly carry any information.\n",
    "Stop-words are terms like ‘it’, ‘they’, ‘am’, ‘been’, ‘about’, ‘because’, ‘while’, etc.\n",
    "tokenize the text, by splitting the string of text into individual tokens or words.\n",
    "then put the tokens back together after removing the stop-words.\n",
    "\n",
    "'''\n",
    "from nltk.corpus import stopwords\n",
    "stop_words = stopwords.words('english')\n",
    "\n",
    "# tokenization\n",
    "tokenized_doc = news_df['clean_doc'].apply(lambda x: x.split())\n",
    "\n",
    "# remove stop-words\n",
    "tokenized_doc = tokenized_doc.apply(lambda x: [item for item in x if item not in stop_words])\n",
    "\n",
    "# de-tokenization\n",
    "detokenized_doc = []\n",
    "for i in range(len(news_df)):\n",
    "    t = ' '.join(tokenized_doc[i])\n",
    "    detokenized_doc.append(t)\n",
    "\n",
    "news_df['clean_doc'] = detokenized_doc\n",
    "\n"
   ]
  },
  {
   "cell_type": "code",
   "execution_count": 74,
   "metadata": {},
   "outputs": [
    {
     "data": {
      "text/plain": [
       "(11314, 1000)"
      ]
     },
     "execution_count": 74,
     "metadata": {},
     "output_type": "execute_result"
    }
   ],
   "source": [
    "#Document-Term Matrix\n",
    "# TfidfVectorizer to create a document-term matrix with 1,000 terms.\n",
    "\n",
    "from sklearn.feature_extraction.text import TfidfVectorizer\n",
    "\n",
    "vectorizer = TfidfVectorizer(stop_words='english', \n",
    "max_features= 1000, max_df = 0.5, smooth_idf=True)\n",
    "# keep top 1000 terms \n",
    "\n",
    "X = vectorizer.fit_transform(news_df['clean_doc'])\n",
    "\n",
    "X.shape # check shape of the document-term matrix\n",
    "\n"
   ]
  },
  {
   "cell_type": "code",
   "execution_count": 75,
   "metadata": {},
   "outputs": [],
   "source": [
    "# limit computation time and disc usage by using 1,000 words as features \n",
    "#Topic Modeling\n",
    "#to represent each and every term and document as a vector. document-term matrix is decomposed into multiple matrices. \n",
    "#using sklearn’s TruncatedSVD to perform the task of matrix decomposition.\n",
    "#try to have 20 topics for text data, specified the number of topics by using the n_components parameter\n",
    "\n"
   ]
  },
  {
   "cell_type": "code",
   "execution_count": 76,
   "metadata": {},
   "outputs": [
    {
     "data": {
      "text/plain": [
       "20"
      ]
     },
     "execution_count": 76,
     "metadata": {},
     "output_type": "execute_result"
    }
   ],
   "source": [
    "from sklearn.decomposition import TruncatedSVD\n",
    "\n",
    "# SVD represent documents and terms in vectors \n",
    "svd_model = TruncatedSVD(n_components=20, algorithm='randomized', n_iter=100, random_state=122)\n",
    "\n",
    "svd_model.fit(X)\n",
    "\n",
    "len(svd_model.components_)\n"
   ]
  },
  {
   "cell_type": "code",
   "execution_count": 77,
   "metadata": {},
   "outputs": [
    {
     "name": "stdout",
     "output_type": "stream",
     "text": [
      "Topic 0: \n",
      "like\n",
      " \n",
      "know\n",
      " \n",
      "people\n",
      " \n",
      "think\n",
      " \n",
      "good\n",
      " \n",
      "time\n",
      " \n",
      "thanks\n",
      " \n",
      "Topic 1: \n",
      "thanks\n",
      " \n",
      "windows\n",
      " \n",
      "card\n",
      " \n",
      "drive\n",
      " \n",
      "mail\n",
      " \n",
      "file\n",
      " \n",
      "advance\n",
      " \n",
      "Topic 2: \n",
      "game\n",
      " \n",
      "team\n",
      " \n",
      "year\n",
      " \n",
      "games\n",
      " \n",
      "season\n",
      " \n",
      "players\n",
      " \n",
      "good\n",
      " \n",
      "Topic 3: \n",
      "drive\n",
      " \n",
      "scsi\n",
      " \n",
      "disk\n",
      " \n",
      "hard\n",
      " \n",
      "card\n",
      " \n",
      "drives\n",
      " \n",
      "problem\n",
      " \n",
      "Topic 4: \n",
      "windows\n",
      " \n",
      "file\n",
      " \n",
      "window\n",
      " \n",
      "files\n",
      " \n",
      "program\n",
      " \n",
      "using\n",
      " \n",
      "problem\n",
      " \n",
      "Topic 5: \n",
      "government\n",
      " \n",
      "chip\n",
      " \n",
      "mail\n",
      " \n",
      "space\n",
      " \n",
      "information\n",
      " \n",
      "encryption\n",
      " \n",
      "data\n",
      " \n",
      "Topic 6: \n",
      "like\n",
      " \n",
      "bike\n",
      " \n",
      "know\n",
      " \n",
      "chip\n",
      " \n",
      "sounds\n",
      " \n",
      "looks\n",
      " \n",
      "look\n",
      " \n",
      "Topic 7: \n",
      "card\n",
      " \n",
      "sale\n",
      " \n",
      "video\n",
      " \n",
      "offer\n",
      " \n",
      "monitor\n",
      " \n",
      "price\n",
      " \n",
      "jesus\n",
      " \n",
      "Topic 8: \n",
      "know\n",
      " \n",
      "card\n",
      " \n",
      "chip\n",
      " \n",
      "video\n",
      " \n",
      "government\n",
      " \n",
      "people\n",
      " \n",
      "clipper\n",
      " \n",
      "Topic 9: \n",
      "good\n",
      " \n",
      "know\n",
      " \n",
      "time\n",
      " \n",
      "bike\n",
      " \n",
      "jesus\n",
      " \n",
      "problem\n",
      " \n",
      "work\n",
      " \n",
      "Topic 10: \n",
      "think\n",
      " \n",
      "chip\n",
      " \n",
      "good\n",
      " \n",
      "thanks\n",
      " \n",
      "clipper\n",
      " \n",
      "need\n",
      " \n",
      "encryption\n",
      " \n",
      "Topic 11: \n",
      "thanks\n",
      " \n",
      "right\n",
      " \n",
      "problem\n",
      " \n",
      "good\n",
      " \n",
      "bike\n",
      " \n",
      "time\n",
      " \n",
      "window\n",
      " \n",
      "Topic 12: \n",
      "good\n",
      " \n",
      "people\n",
      " \n",
      "windows\n",
      " \n",
      "know\n",
      " \n",
      "file\n",
      " \n",
      "sale\n",
      " \n",
      "files\n",
      " \n",
      "Topic 13: \n",
      "space\n",
      " \n",
      "think\n",
      " \n",
      "know\n",
      " \n",
      "nasa\n",
      " \n",
      "problem\n",
      " \n",
      "year\n",
      " \n",
      "israel\n",
      " \n",
      "Topic 14: \n",
      "space\n",
      " \n",
      "good\n",
      " \n",
      "card\n",
      " \n",
      "people\n",
      " \n",
      "time\n",
      " \n",
      "nasa\n",
      " \n",
      "thanks\n",
      " \n",
      "Topic 15: \n",
      "people\n",
      " \n",
      "problem\n",
      " \n",
      "window\n",
      " \n",
      "time\n",
      " \n",
      "game\n",
      " \n",
      "want\n",
      " \n",
      "bike\n",
      " \n",
      "Topic 16: \n",
      "time\n",
      " \n",
      "bike\n",
      " \n",
      "right\n",
      " \n",
      "windows\n",
      " \n",
      "file\n",
      " \n",
      "need\n",
      " \n",
      "really\n",
      " \n",
      "Topic 17: \n",
      "time\n",
      " \n",
      "problem\n",
      " \n",
      "file\n",
      " \n",
      "think\n",
      " \n",
      "israel\n",
      " \n",
      "long\n",
      " \n",
      "mail\n",
      " \n",
      "Topic 18: \n",
      "file\n",
      " \n",
      "need\n",
      " \n",
      "card\n",
      " \n",
      "files\n",
      " \n",
      "problem\n",
      " \n",
      "right\n",
      " \n",
      "good\n",
      " \n",
      "Topic 19: \n",
      "problem\n",
      " \n",
      "file\n",
      " \n",
      "thanks\n",
      " \n",
      "used\n",
      " \n",
      "space\n",
      " \n",
      "chip\n",
      " \n",
      "sale\n",
      " \n"
     ]
    }
   ],
   "source": [
    "#The components of svd_model are the topics, svd_model.components_.\n",
    "#print a few most important words in each of the 20 topics.\n",
    "\n",
    "terms = vectorizer.get_feature_names()\n",
    "\n",
    "for i, comp in enumerate(svd_model.components_):\n",
    "    terms_comp = zip(terms, comp)\n",
    "    sorted_terms = sorted(terms_comp, key= lambda x:x[1], reverse=True)[:7]\n",
    "    print(\"Topic \"+str(i)+\": \")\n",
    "    for t in sorted_terms:\n",
    "        print(t[0])\n",
    "        print(\" \")"
   ]
  },
  {
   "cell_type": "code",
   "execution_count": 78,
   "metadata": {},
   "outputs": [
    {
     "data": {
      "image/png": "[encoded data removed]",
      "text/plain": [
       "<Figure size 504x360 with 1 Axes>"
      ]
     },
     "metadata": {},
     "output_type": "display_data"
    }
   ],
   "source": [
    "#Topics Visualization using umap\n",
    "\n",
    "import umap\n",
    "\n",
    "X_topics = svd_model.fit_transform(X)\n",
    "embedding = umap.UMAP(n_neighbors=150, min_dist=0.5, random_state=12).fit_transform(X_topics)\n",
    "\n",
    "plt.figure(figsize=(7,5))\n",
    "plt.scatter(embedding[:, 0], embedding[:, 1],c = dataset.target,\n",
    "s = 10, # size\n",
    "edgecolor='none'\n",
    ")\n",
    "plt.show()\n",
    " \n",
    "\n"
   ]
  },
  {
   "cell_type": "code",
   "execution_count": 79,
   "metadata": {},
   "outputs": [],
   "source": [
    "# example LDA model"
   ]
  },
  {
   "cell_type": "code",
   "execution_count": 80,
   "metadata": {},
   "outputs": [],
   "source": [
    "# 20newsgroups data\n",
    "doc_complete = documents "
   ]
  },
  {
   "cell_type": "code",
   "execution_count": 81,
   "metadata": {},
   "outputs": [],
   "source": [
    "from nltk.corpus import stopwords \n",
    "from nltk.stem.wordnet import WordNetLemmatizer\n",
    "import string\n",
    "stop = set(stopwords.words('english'))\n",
    "exclude = set(string.punctuation) \n",
    "lemma = WordNetLemmatizer()\n",
    "def clean(doc):\n",
    "    stop_free = \" \".join([i for i in doc.lower().split() if i not in stop])\n",
    "    punc_free = ''.join(ch for ch in stop_free if ch not in exclude)\n",
    "    normalized = \" \".join(lemma.lemmatize(word) for word in punc_free.split())\n",
    "    return normalized\n",
    "\n",
    "doc_clean = [clean(doc).split() for doc in doc_complete]"
   ]
  },
  {
   "cell_type": "code",
   "execution_count": 82,
   "metadata": {},
   "outputs": [],
   "source": [
    "# Importing Gensim\n",
    "import gensim\n",
    "from gensim import corpora\n",
    "\n",
    "# Creating the term dictionary of our courpus, where every unique term is assigned an index. \n",
    "dictionary = corpora.Dictionary(doc_clean)\n",
    "\n",
    "# Converting list of documents (corpus) into Document Term Matrix using dictionary prepared above.\n",
    "doc_term_matrix = [dictionary.doc2bow(doc) for doc in doc_clean]"
   ]
  },
  {
   "cell_type": "code",
   "execution_count": 83,
   "metadata": {},
   "outputs": [],
   "source": [
    "# Creating the object for LDA model using gensim library\n",
    "Lda = gensim.models.ldamodel.LdaModel\n",
    "\n",
    "# Running and Trainign LDA model on the document term matrix.\n",
    "ldamodel = Lda(doc_term_matrix, num_topics=3, id2word = dictionary, passes=50)"
   ]
  },
  {
   "cell_type": "code",
   "execution_count": 84,
   "metadata": {},
   "outputs": [],
   "source": [
    "# extracting sentiment from newsgroup data"
   ]
  },
  {
   "cell_type": "code",
   "execution_count": 85,
   "metadata": {},
   "outputs": [],
   "source": [
    "from textblob import TextBlob"
   ]
  },
  {
   "cell_type": "code",
   "execution_count": 86,
   "metadata": {},
   "outputs": [],
   "source": [
    "news_df['correct_doc'] = news_df['clean_doc'][:5].apply(lambda x: str(TextBlob(x).correct()))"
   ]
  },
  {
   "cell_type": "code",
   "execution_count": 87,
   "metadata": {},
   "outputs": [],
   "source": [
    "news_df['sentiment_doc'] = news_df['correct_doc'][:5].apply(lambda x: TextBlob(x).sentiment)"
   ]
  },
  {
   "cell_type": "code",
   "execution_count": 88,
   "metadata": {},
   "outputs": [
    {
     "data": {
      "text/plain": [
       "0    (-0.04761904761904761, 0.5817460317460317)\n",
       "1    (-0.09675925925925928, 0.5648148148148149)\n",
       "2    (-0.12285714285714285, 0.3404761904761905)\n",
       "Name: sentiment_doc, dtype: object"
      ]
     },
     "execution_count": 88,
     "metadata": {},
     "output_type": "execute_result"
    }
   ],
   "source": [
    "news_df['sentiment_doc'].head(3)  # tuple representing polarity and subjectivity "
   ]
  },
  {
   "cell_type": "code",
   "execution_count": null,
   "metadata": {},
   "outputs": [],
   "source": []
  },
  {
   "cell_type": "code",
   "execution_count": null,
   "metadata": {},
   "outputs": [],
   "source": []
  }
 ],
 "metadata": {
  "kernelspec": {
   "display_name": "Python 3",
   "language": "python",
   "name": "python3"
  },
  "language_info": {
   "codemirror_mode": {
    "name": "ipython",
    "version": 3
   },
   "file_extension": ".py",
   "mimetype": "text/x-python",
   "name": "python",
   "nbconvert_exporter": "python",
   "pygments_lexer": "ipython3",
   "version": "3.6.6"
  }
 },
 "nbformat": 4,
 "nbformat_minor": 2
}
